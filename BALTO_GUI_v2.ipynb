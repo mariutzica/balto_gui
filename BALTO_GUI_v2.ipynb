{
 "cells": [
  {
   "cell_type": "markdown",
   "metadata": {},
   "source": [
    "# BALTO Graphical User Interface (A Prototype)"
   ]
  },
  {
   "cell_type": "markdown",
   "metadata": {},
   "source": [
    "Scott Dale Peckham<sup>1</sup>, Maria Stoica<sup>1</sup>, D. Sarah Stamps<sup>2</sup>, James Gallagher<sup>3</sup>, Nathan Potter<sup>3</sup>, David Fulker<sup>3</sup> <br>\n",
    "<sup>1</sup>University of Colorado, Boulder, United States of America;\n",
    "<sup>2</sup>Virginia Tech;\n",
    "<sup>1</sup>OPeNDAP, Inc.<br>\n",
    "Corresponding author:  Scott.Peckham@colorado.edu"
   ]
  },
  {
   "cell_type": "markdown",
   "metadata": {},
   "source": [
    "#### Table of Contents"
   ]
  },
  {
   "cell_type": "markdown",
   "metadata": {},
   "source": [
    "1.  <a href=\"#intro\">Introduction</a> <br>\n",
    "2.  <a href=\"#start_gui\">Import and Start the BALTO GUI</a> <br>\n",
    "3.  <a href=\"#get_data\">Download and Explore Some Data</a> <br>\n",
    "4.  <a href=\"#plot_data\">Plot Some Data</a> <br>\n",
    "5.  <a href=\"#var_match\">Matching Variable Names to Standardized Names</a> <br>\n",
    "6.  <a href=\"#low_level\">Low-level Access to GUI Settings</a> <br>\n",
    "7.  <a href=\"#references\">References for More Info</a> <br>\n",
    "8.  <a href=\"#setup\">Appendix 1: Set up a conda environment called \"balto\"</a> <br>"
   ]
  },
  {
   "cell_type": "markdown",
   "metadata": {},
   "source": [
    "## Introduction  <a id=\"intro\"></a>"
   ]
  },
  {
   "cell_type": "markdown",
   "metadata": {},
   "source": [
    "This Jupyter notebook creates a GUI (graphical user interface) for the BALTO (Brokered Alignment of Long-Tail Observations) project.  BALTO is funded by the NSF EarthCube program.  The GUI aims to provide a simplified and customizable method for users to access data sets of interest on servers that support the OpenDAP data access protocol.  This interactive GUI runs within the Jupyter notebook and uses the Python packages: <b>ipywidgets</b> (for widget controls), <b>ipyleaflet</b> (for interactive maps) and <b>pydap</b> (an OpenDAP client).\n",
    "\n",
    "The Python source code to create the GUI and to process events is in a Python module called <b>balto_gui.py</b> that must be copied into the same directory as this Jupyter notebook.  A Python module to create plots and color images from data, called <b>balto_plot.py</b>, is included as well.\n",
    "\n",
    "This GUI can be toggled between an <b>accordion style</b> and a <b>tab style</b>.  Both styles allow you to switch between GUI panels without scrolling in the notebook.\n",
    "\n",
    "You can run this notebook in a browser window without installing anything on your computer, using something called <b>Binder</b>.  On GitHub, on the README page, you will see a Binder icon and a link labeled \"Launch Binder\".\n",
    "\n",
    "To run this Jupyter notebook without Binder, it is recommended to install Python 3.7 from an Anaconda distribution and to then create a <b>conda environment</b> called <b>balto</b>.  Instructions for how to create a conda environment are given in Appendix 1.\n",
    "\n",
    "This GUI makes it much easier to browse, download and analyze data from servers that support the OpenDAP protocol.  Under the hood (in balto_gui.py), it performs many calculations automatically, by making use of any metadata that is available for a chosen dataset. Keep in mind, however, that this is a work in progress that will continue to be improved.\n",
    "\n",
    "The default <b>OpenDAP URL Dir</b> in the GUI is a test server with a wide variety of datasets for testing common, unusual and edge cases."
   ]
  },
  {
   "cell_type": "markdown",
   "metadata": {},
   "source": [
    "## Import and Start the BALTO GUI  <a id=\"start_gui\"></a>"
   ]
  },
  {
   "cell_type": "code",
   "execution_count": 1,
   "metadata": {},
   "outputs": [
    {
     "data": {
      "application/vnd.jupyter.widget-view+json": {
       "model_id": "29b1f77dc3eb4d479683cdae09d785d3",
       "version_major": 2,
       "version_minor": 0
      },
      "text/plain": [
       "VBox(children=(HTML(value='<b><font size=5>BALTO User Interface</font></b>'), Tab(children=(VBox(children=(HBo…"
      ]
     },
     "metadata": {},
     "output_type": "display_data"
    },
    {
     "data": {
      "application/vnd.jupyter.widget-view+json": {
       "model_id": "3fa89e3590084b3cabcac0107e4b70c7",
       "version_major": 2,
       "version_minor": 0
      },
      "text/plain": [
       "Output()"
      ]
     },
     "metadata": {},
     "output_type": "display_data"
    }
   ],
   "source": [
    "import balto_gui as bg\n",
    "balto = bg.balto_gui()\n",
    "## balto.show_gui(ACC_STYLE=True)    # Use accordion style\n",
    "balto.show_gui()   # Use tab style"
   ]
  },
  {
   "cell_type": "markdown",
   "metadata": {},
   "source": [
    "## Download and Explore Some Data  <a id=\"get_data\"></a>"
   ]
  },
  {
   "cell_type": "markdown",
   "metadata": {},
   "source": [
    "First open the <b>Browse Data</b> panel.\n",
    "If you changed the \"OpenDAP URL Dir\", click the Reset button at the bottom of the Data panel to restore the defaults.  The OpenDAP URL Dir should again be: http://test.opendap.org/dap/data/nc/.\n",
    "\n",
    "Click on the Go button. <br>\n",
    "From the <b>Filename droplist</b>, choose <b>sst.mnmean.nc.gz</b>. <br>\n",
    "From the <b>Variable</b> droplist, choose <b>sst</b>.\n",
    "\n",
    "Notice that the shape of this dataset is <b>(1857, 89, 180)</b>,\n",
    "with dimensions: <b>('time', 'lat', 'lon')</b>.\n",
    "\n",
    "Next, open the <b>Spatial Extent</b> panel and use the interactive map to choose a geographic bounding box for some region you are interested in.  Try choosing different basemaps from the Basemap droplist above the map.  You can also click on the Full Screen icon in the upper right corner to expand the map to the full screen of your computer.\n",
    "\n",
    "You can also type new bounding lats and lons into the text boxes and click the <b>Update</b> button.  The map will then zoom to show a bounding box that contains your bounding box.  Note, however, that the aspect ratio of the GUI's map window may not match the shape of your bounding box.  (Sometimes you have to click the <b>Reset</b> button and retry to get it to work properly.)\n",
    "\n",
    "Now let's zoom into the Carribean island of Puerto Rico.  In the text boxes, enter <b>-68.2</b> for the West edge, <b>-64.7</b> for the East edge, <b>18.9</b> for the North edge and <b>17.6</b> for the South edge, then click the <b>Update</b> button.  This should zoom in to a view in which the whole island is visible in the window, with water visible all around. You can use the \"minus\" button (upper left) to zoom out by one click to download a larger array.  \n",
    "\n",
    "Let's now check how the monthly mean sea surface temperature has changed over the years spanned by the SST dataset we downloaded.  To see the date and time range spanned by this dataset, open the <b>Date Range</b> panel.  If you want, you can change the dates and times to restrict the data to a shorter time period.\n",
    "\n",
    "Next, open the <b>Download Data</b> panel and click on the <b>Download</b> button.  This causes the SST dataset --- restricted to this spatial extent and date range --- to be downloaded to your computer and stored in the <b>balto</b> object as <b>user_var</b>.  This may take a minute or so, before you can execute the next cell.\n",
    "\n",
    "You can now begin to work with the data in this notebook.\n"
   ]
  },
  {
   "cell_type": "code",
   "execution_count": 2,
   "metadata": {},
   "outputs": [
    {
     "name": "stdout",
     "output_type": "stream",
     "text": [
      "type(sst) = <class 'numpy.ndarray'>\n",
      "sst.dtype = |S3\n",
      "sst.shape = (2, 3)\n"
     ]
    }
   ],
   "source": [
    "sst = balto.user_var\n",
    "print('type(sst) =', type(sst))\n",
    "print('sst.dtype =', sst.dtype)\n",
    "print('sst.shape =', sst.shape)\n",
    "if (isinstance(sst, (int, float))):\n",
    "    print('sst.min() =', sst.min())\n",
    "    print('sst.max() =', sst.max())"
   ]
  },
  {
   "cell_type": "markdown",
   "metadata": {},
   "source": [
    "Recall from the  Browse Data panel that the SST dataset has dimensions <b>('time', 'lat', 'lon')</b>.  When you chose a new bounding box and time interval in the <b>Spatial Extent</b> and <b>Date Range</b> panels of the GUI, you restricted the time, lat and lon indices, resulting in a much smaller array, as seen by the new shape.  This also resulted in a much faster download.\n",
    "\n",
    "As can be seen in the <b>Browse Data</b> panel, the original SST data values were stored as 2-byte, signed integers.  However, looking at the Attributes in that panel, we see that there is a <b>scale_factor</b> attribute that we are supposed to multiply these integer values by in order to convert them to actual temperatures, with units of <b>degrees C</b>.  Some data sets also have an <b>add_offset</b> attribute.  The GUI looks for these, and if found, applies them for you.  This converts the data type from 2-byte, signed integer to a floating-point number.\n",
    "\n",
    "The GUI also retrieves and stores the restricted range of times, lats and lons associated with this variable (sea surface temperature).  You can get these as follows."
   ]
  },
  {
   "cell_type": "code",
   "execution_count": 6,
   "metadata": {},
   "outputs": [
    {
     "name": "stdout",
     "output_type": "stream",
     "text": [
      "min(times), max(times) = 366.0 7670.85\n",
      "min(lats),  max(lats)  = 17.0 19.0\n",
      "min(lons),  max(lons)  = -71.0 -63.0\n"
     ]
    }
   ],
   "source": [
    "times = balto.user_var_times\n",
    "lats  = balto.user_var_lats\n",
    "lons  = balto.user_var_lons\n",
    "print('min(times), max(times) =', times.min(), times.max())\n",
    "print('min(lats),  max(lats)  =', lats.min(), lats.max())\n",
    "print('min(lons),  max(lons)  =', lons.min(), lons.max())"
   ]
  },
  {
   "cell_type": "markdown",
   "metadata": {},
   "source": [
    "Note that the latitudes have the wrong sign, but that is how they were stored in the original dataset.  If you choose <b>lat</b> from the <b>Variable</b> droplist, and then look at its attributes in the <b>Attributes</b> droplist, you see that the <b>actual_range</b> is <b>[88.0, -88.0]</b>, where min and max are reversed from what you would expect."
   ]
  },
  {
   "cell_type": "markdown",
   "metadata": {},
   "source": [
    "You can do a variant of this exercise for comparison by choosing <b>coads_climatology2.nc</b> from the <b>Filename</b> droplist, choosing <b>SST</b> from the <b>Variable</b> droplist and repeating all of the other steps.  You can do another variant by choosing the filename from the <b>Filename</b> droplist that begins with <b>20070917-MODIS</b> and choosing <b>sea_surface_temperature</b> from the <b>Variable</b> droplist."
   ]
  },
  {
   "cell_type": "markdown",
   "metadata": {},
   "source": [
    "## Plot Some Data  <a id=\"plot_data\"></a>"
   ]
  },
  {
   "cell_type": "markdown",
   "metadata": {},
   "source": [
    "We can now examine how the sea surface temperatures around Puerto Rico have changed over the years.  Remember that the first dimension of the SST variable is time, and temperature values are monthly averages over a given grid cell.\n",
    "\n",
    "First, we will plot the monthly mean SST for a single grid cell, over the full range of times.  Here we are using the <b>plot_data</b> function defined in <b>balto_plot.py</b>."
   ]
  },
  {
   "cell_type": "code",
   "execution_count": null,
   "metadata": {},
   "outputs": [],
   "source": [
    "import balto_plot as bp\n",
    "### Plot of Monthly Mean Sea Surface Temperature vs. Time\n",
    "\n"
   ]
  },
  {
   "cell_type": "markdown",
   "metadata": {},
   "source": [
    "Next, we will create a color image that shows the monthly mean SST grid for a single time.  In this case we are using the <b>show_grid</b> function defined in <b>balto_gui.py</b>, that calls a function in <b>balto_plot.py</b>."
   ]
  },
  {
   "cell_type": "code",
   "execution_count": null,
   "metadata": {},
   "outputs": [],
   "source": [
    "# grid = sst[10,:,:]\n",
    "# balto.show_grid( grid, cmap='rainbow', xsize=8, ysize=8)"
   ]
  },
  {
   "cell_type": "code",
   "execution_count": null,
   "metadata": {},
   "outputs": [],
   "source": [
    "### Color Image of Monthly Mean Sea Surface Temperature for a Given Time\n",
    "\n"
   ]
  },
  {
   "cell_type": "markdown",
   "metadata": {},
   "source": [
    "## Matching Variable Names to Standardized Names  <a id=\"var_match\"></a>"
   ]
  },
  {
   "cell_type": "markdown",
   "metadata": {},
   "source": [
    "The [Scientific Variables Ontology](http://www.geoscienceontology.org) (SVO), developed by Peckham and Stoica (2014, 2018, 2019) provides a machine-readable mechanism for the standardized, unambiguous representation of scientific variable concepts.  Developed over many years, and spanning variables across the sciences, it can be used as the \"hub\" in a hub-and-spoke system to map the variable names used internally by different computational models and datasets to a common representation.\n",
    "\n",
    "As you have seen from browsing datasets in the GUI, the names of variables used in scientific datasets are not standardized, and may simply be abbreviations.  This can make it difficult and time-consuming to find variables of interest in a collection of datasets.\n",
    "\n",
    "We have developed an experimental <b>variable name matching</b> service for SVO, that is available at: http://34.73.227.230:8000/match_phrase/.  To use it, you simply append a variable name phrase, with separate words separated by underscores, to this URL in a browser.  This service is also embedded in the BALTO GUI object as a method called <b>get_possible_svo_names()</b>."
   ]
  },
  {
   "cell_type": "code",
   "execution_count": 3,
   "metadata": {},
   "outputs": [
    {
     "name": "stdout",
     "output_type": "stream",
     "text": [
      "Working...\n",
      "Finished.\n",
      "\n",
      "label = sea_surface_water__temperature\n",
      "rank  = 0.9\n",
      "\n",
      "label = sea_surface_air__temperature\n",
      "rank  = 0.9\n",
      "\n",
      "label = sea_surface_water__anomaly_of_temperature\n",
      "rank  = 0.875\n",
      "\n",
      "label = sea_surface_air__reference_temperature\n",
      "rank  = 0.875\n",
      "\n",
      "label = sea_ice_surface_air__temperature\n",
      "rank  = 0.857\n",
      "\n",
      "label = sea_surface_air-vs-water__difference_of_temperature\n",
      "rank  = 0.812\n",
      "\n",
      "label = sea_surface__slope\n",
      "rank  = 0.667\n",
      "\n",
      "label = sea_surface__longitude\n",
      "rank  = 0.667\n",
      "\n",
      "label = sea_surface__latitude\n",
      "rank  = 0.667\n",
      "\n",
      "label = sea_surface__elevation\n",
      "rank  = 0.667\n",
      "\n",
      "label = sea_water__temperature\n",
      "rank  = 0.625\n",
      "\n",
      "label = sea_bottom_surface__slope\n",
      "rank  = 0.625\n",
      "\n",
      "label = sea_bottom_surface__longitude\n",
      "rank  = 0.625\n",
      "\n",
      "label = sea_bottom_surface__latitude\n",
      "rank  = 0.625\n",
      "\n",
      "label = sea_bottom_surface__elevation\n",
      "rank  = 0.625\n",
      "\n"
     ]
    }
   ],
   "source": [
    "balto.get_possible_svo_names('sea surface temperature', SHOW_IRI=False)\n"
   ]
  },
  {
   "cell_type": "markdown",
   "metadata": {},
   "source": [
    "## Low-Level Access to the GUI Settings   <a id=\"low_level\"></a>"
   ]
  },
  {
   "cell_type": "markdown",
   "metadata": {},
   "source": [
    "If you have some familiarity with the Python programming language, you can browse the 3000 or so lines of source code in <b>balto_gui.py</b> and see how to access dataset information, GUI settings and class methods directly for command-line use.  Here a few simple examples."
   ]
  },
  {
   "cell_type": "code",
   "execution_count": null,
   "metadata": {},
   "outputs": [],
   "source": [
    "print(balto.var_short_names)\n",
    "time = balto.dataset.time\n",
    "print(time.actual_range)\n",
    "print(time.units)\n",
    "print(balto.map_minlon_box.value)"
   ]
  },
  {
   "cell_type": "markdown",
   "metadata": {},
   "source": [
    "## References for More Info  <a id=\"references\"></a>"
   ]
  },
  {
   "attachments": {},
   "cell_type": "markdown",
   "metadata": {},
   "source": [
    "<b>Anaconda Python Distribution</b> <br>\n",
    "https://www.anaconda.com/products/individual\n",
    "\n",
    "<b>BALTO, an EarthCube Project</b> <br>\n",
    "https://www.earthcube.org/group/brokered-alignment-long-tail-observations-balto <br>\n",
    "https://www.nsf.gov/awardsearch/showAward?AWD_ID=1740704 <br>\n",
    "http://balto.opendap.org/opendap/\n",
    "\n",
    "<b>Binder Project</b> <br>\n",
    "https://github.com/binder-examples\n",
    "\n",
    "<b>ipywidgets</b> Python package <br>\n",
    "https://ipywidgets.readthedocs.io/en/latest/index.html <br>\n",
    "https://ipywidgets.readthedocs.io/en/latest/user_guide.html\n",
    "\n",
    "<b>ipyleaflet</b> Python package <br> \n",
    "https://ipyleaflet.readthedocs.io/en/latest/\n",
    "\n",
    "<b>Jupyter Lab Project</b> <br>\n",
    "https://jupyterlab.readthedocs.io/en/stable/getting_started/installation.html <br>\n",
    "https://jupyterlab.readthedocs.io/en/stable/user/extensions.html <br>\n",
    "https://ipywidgets.readthedocs.io/en/latest/user_install.html#installing-the-jupyterlab-extension<br>\n",
    "\n",
    "<b>Jupyter Notebook Project</b> <br>\n",
    "https://jupyter.org/\n",
    "\n",
    "<b>NetCDF CF Conventions</b> <br>\n",
    "http://cfconventions.org/cf-conventions/cf-conventions.html\n",
    "\n",
    "<b>OpenDAP Data Access Protocol</b> <br>\n",
    "https://www.opendap.org/ <br>\n",
    "https://opendap.github.io/documentation/QuickStart.html <br>\n",
    "https://www.opendap.org/support/user-documentation\n",
    "\n",
    "Peckham, S.D. (2014) The CSDMS Standard Names:  Cross-domain naming conventions for describing process models, data sets and their associated variables, Proceedings of the 7th Intl. Congress on Env. Modelling and Software, International Environmental Modelling and Software Society (iEMSs), San Diego, CA. (Eds.  D.P. Ames, N.W.T. Quinn, A.E. Rizzoli),  Paper 12.  http://scholarsarchive.byu.edu/iemssconference/2014/Stream-A/12/.![image.png](attachment:image.png)\n",
    "\n",
    "<b>pydap</b> Python package <br>\n",
    "https://www.pydap.org/en/latest/ <br>\n",
    "https://github.com/pydap/pydap\n",
    "\n",
    "<b>Scientific Variables Ontology</b> (SVO) <br>\n",
    "http://www.geoscienceontology.org/ <br>\n",
    "\n",
    "Stoica, M. and S.D. Peckham (2019) The Scientific Variables Ontology:  A blueprint for custom manual and automated creation and alignment of machine-interpretable qualitative and quantitative variable concepts, MWS 2019: Modeling the World’s Systems, http://pittmodelingconference.sci.pitt.edu.![image.png](attachment:image.png)\n",
    "\n",
    "Stoica, M. and S.D. Peckham (2019) Incorporating new concepts into the Scientific Variables Ontology, Workshop on Advanced Knowledge Technologies for Science in a FAIR World, San Diego, CA, (Sept. 24, 2019) http://mint-project.info/assets/publications/stoica-peckham_escience19_abstract.pdf, https://www.isi.edu/ikcap/akts/akts2019/.![image.png](attachment:image.png)\n",
    "\n",
    "Stoica, M. and S.D. Peckham (2018) An ontology blueprint for constructing qualitative and quantitative scientific variables, ISWC 2018: The 17th International Semantic Web Conference, Monterey, CA (Oct. 8-12), http://ceur-ws.org/Vol-2180/paper-64.pdf![image.png](attachment:image.png)\n",
    "\n",
    "<b>traitlets</b> Python package (used by ipywidgets) <br>\n",
    "https://traitlets.readthedocs.io/en/stable/\n",
    "\n",
    "<b>appmode</b>, a Jupyter plugin (not used) <br>\n",
    "https://github.com/oschuett/appmode <br>\n",
    "https://github.com/binder-examples/appmode\n"
   ]
  },
  {
   "cell_type": "markdown",
   "metadata": {},
   "source": [
    "## Appendix 1:  Set up a conda environment called \"balto\"    <a id=\"setup\"></a>"
   ]
  },
  {
   "cell_type": "markdown",
   "metadata": {},
   "source": [
    "To run this Jupyter notebook, it is recommended to use Python 3.7 from an Anaconda distribution and to create a \"balto\" conda environment with the following commands.  This helps to prevent conflicts with other Python packages you may have installed.  After installing Anaconda, use these commands to create the environment. "
   ]
  },
  {
   "cell_type": "markdown",
   "metadata": {},
   "source": [
    "``` bash\n",
    "% conda update -n base -c defaults conda\n",
    "% conda create --name balto\n",
    "% conda activate balto\n",
    "% conda install -c conda-forge ipywidgets\n",
    "% conda install -c conda-forge ipyleaflet\n",
    "% conda install -c conda-forge pydap\n",
    "```"
   ]
  },
  {
   "cell_type": "markdown",
   "metadata": {},
   "source": [
    "If you want to use this notebook in Jupyter Lab (vs. Jupyter Notebook), you need to install a few more Python packages and extensions, as follows."
   ]
  },
  {
   "cell_type": "markdown",
   "metadata": {},
   "source": [
    "``` bash\n",
    "% conda install -c conda-forge jupyterlab\n",
    "% conda install -c conda-forge nb_conda_kernels  # (needed for conda envs)\n",
    "\n",
    "% conda install -c conda-forge nodejs\n",
    "% conda install -c conda-forge widgetsnbextension\n",
    "% jupyter labextension install jupyter-leaflet\n",
    "% jupyter labextension install @jupyter-widgets/jupyterlab-manager\n",
    "```"
   ]
  },
  {
   "cell_type": "markdown",
   "metadata": {},
   "source": [
    "When you want to run the notebook, type \"conda activate balto\" to activate this environment.  Then change to the directory that contains BALTO_GUI.ipynb and type \"jupyter notebook\" or \"jupyter lab\".\n",
    "\n",
    "Finally, choose this notebook by name, \"BALTO_GUI.ipynb\", and make sure to choose the kernel called:  Python [conda env:balto].  See the References section at the end for more info."
   ]
  },
  {
   "cell_type": "code",
   "execution_count": null,
   "metadata": {},
   "outputs": [],
   "source": []
  }
 ],
 "metadata": {
  "kernelspec": {
   "display_name": "Python [conda env:balto] *",
   "language": "python",
   "name": "conda-env-balto-py"
  },
  "language_info": {
   "codemirror_mode": {
    "name": "ipython",
    "version": 3
   },
   "file_extension": ".py",
   "mimetype": "text/x-python",
   "name": "python",
   "nbconvert_exporter": "python",
   "pygments_lexer": "ipython3",
   "version": "3.7.3"
  }
 },
 "nbformat": 4,
 "nbformat_minor": 2
}
