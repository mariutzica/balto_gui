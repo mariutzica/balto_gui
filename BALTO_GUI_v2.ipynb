{
 "cells": [
  {
   "cell_type": "markdown",
   "metadata": {},
   "source": [
    "# BALTO Graphical User Interface (prototype)"
   ]
  },
  {
   "cell_type": "markdown",
   "metadata": {},
   "source": [
    "This Jupyter notebook creates a GUI (graphical user interface) for the BALTO (Brokered Alignment of Long-Tail Observations) project.  BALTO is funded by the NSF EarthCube program.  The GUI aims to provide a simplified and customizable method for users to access data sets of interest on servers that support the OpenDAP data access protocol.  This interactive GUI runs within the Jupyter notebook and uses the Python packages: <b>ipywidgets</b> (for widget controls), <b>ipyleaflet</b> (for interactive maps) and <b>pydap</b> (an OpenDAP client).\n",
    "\n",
    "The Python source code to create the GUI and to process events is in a Python module called <b>balto_gui.py</b> that must be copied into the same directory as this Jupyter notebook.\n",
    "\n",
    "This is an <b>accordion-style</b> GUI, which allows you to switch between GUI panels without scrolling in the notebook.\n",
    "\n",
    "You can run this notebook in a browser window without installing anything on your computer, using something called <b>Binder</b>.  On GitHub, you will see a Binder icon and a link labeled \"Launch Binder\".\n",
    "\n",
    "To run this Jupyter notebook without Binder, it is recommended to install Python 3.7 from an Anaconda distribution and to then create a <b>conda environment</b> called <b>balto</b>.  Instructions for how to create a conda environment are given in Appendix 1."
   ]
  },
  {
   "cell_type": "markdown",
   "metadata": {},
   "source": [
    "#### Table of Contents"
   ]
  },
  {
   "cell_type": "markdown",
   "metadata": {},
   "source": [
    "1.  <a href=\"#start_gui\">Import and Start the BALTO GUI</a> <br>\n",
    "2.  <a href=\"#get_data\">Download Some Data</a> <br>\n",
    "3.  <a href=\"#explore\">Explore and Plot Data</a> <br>\n",
    "4.  <a href=\"#var_match\">Matching Variable Names to Standardized Names</a> <br>\n",
    "5.  <a href=\"#low_level\">Low-level Access to GUI Settings</a> <br>\n",
    "6.  <a href=\"#references\">References for More Info</a> <br>\n",
    "7.  <a href=\"#setup\">Appendix 1: Set up a conda environment called \"balto\"</a> <br>"
   ]
  },
  {
   "cell_type": "markdown",
   "metadata": {},
   "source": [
    "## Import and Start the BALTO GUI  <a id=\"start_gui\"></a>"
   ]
  },
  {
   "cell_type": "code",
   "execution_count": 1,
   "metadata": {},
   "outputs": [
    {
     "data": {
      "application/vnd.jupyter.widget-view+json": {
       "model_id": "cc22564f171a461f9d30399c19eae2f4",
       "version_major": 2,
       "version_minor": 0
      },
      "text/plain": [
       "VBox(children=(HTML(value='<br>'), HTML(value='<b><font size=5>BALTO User Interface</font></b>'), Accordion(ch…"
      ]
     },
     "metadata": {},
     "output_type": "display_data"
    },
    {
     "data": {
      "application/vnd.jupyter.widget-view+json": {
       "model_id": "7112f985ae794148a480fe2381ed9884",
       "version_major": 2,
       "version_minor": 0
      },
      "text/plain": [
       "Output()"
      ]
     },
     "metadata": {},
     "output_type": "display_data"
    }
   ],
   "source": [
    "import balto_gui as bg\n",
    "balto = bg.balto_gui()\n",
    "balto.show_gui()"
   ]
  },
  {
   "cell_type": "markdown",
   "metadata": {},
   "source": [
    "## Download Some Data  <a id=\"get_data\"></a>"
   ]
  },
  {
   "cell_type": "markdown",
   "metadata": {},
   "source": [
    "If you changed the \"OpenDAP URL Dir\" in the GUI above, click the reset button at the bottom of the Data panel to restore the defaults.  The OpenDAP URL Dir should again be: http://test.opendap.org/dap/data/nc/.\n",
    "\n",
    "Click on the Go button. <br>\n",
    "From the <b>Filename droplist</b>, choose <b>sst.mnmean.nc.gz</b>. <br>\n",
    "From the <b>Variable</b> droplist, choose <b>sst</b>.\n",
    "\n",
    "Notice that the shape of this dataset is <b>(1857, 89, 180)</b>,\n",
    "with dimensions: <b>('time', 'lat', 'lon')</b>."
   ]
  },
  {
   "cell_type": "code",
   "execution_count": 2,
   "metadata": {},
   "outputs": [
    {
     "name": "stdout",
     "output_type": "stream",
     "text": [
      "<class 'numpy.ndarray'>\n",
      "(1857, 89, 180)\n",
      ">i2\n"
     ]
    }
   ],
   "source": [
    "sst = balto.user_var\n",
    "print( type(sst) )\n",
    "print( sst.shape )\n",
    "print( sst.dtype )"
   ]
  },
  {
   "cell_type": "code",
   "execution_count": 5,
   "metadata": {},
   "outputs": [
    {
     "name": "stdout",
     "output_type": "stream",
     "text": [
      "sst.min(), sst.max() = -180 32767\n"
     ]
    }
   ],
   "source": [
    "print( 'sst.min(), sst.max() =', sst[50,:,:].min(), sst[50,:,:].max() )"
   ]
  },
  {
   "cell_type": "markdown",
   "metadata": {},
   "source": [
    "## Explore and Plot Data  <a id=\"explore\"></a>"
   ]
  },
  {
   "cell_type": "code",
   "execution_count": null,
   "metadata": {},
   "outputs": [],
   "source": [
    "# grid = sst[10,:,:]\n",
    "# balto.show_grid( grid, cmap='rainbow', xsize=8, ysize=8)"
   ]
  },
  {
   "cell_type": "markdown",
   "metadata": {},
   "source": [
    "## Matching Variable Names to Standardized Names  <a id=\"var_match\"></a>"
   ]
  },
  {
   "cell_type": "code",
   "execution_count": null,
   "metadata": {},
   "outputs": [],
   "source": [
    "# This uses an SVO service at:  http://34.73.227.230:8000/match_phrase/\n",
    "balto.get_possible_svo_names('sst', SHOW_IRI=False)\n"
   ]
  },
  {
   "cell_type": "markdown",
   "metadata": {},
   "source": [
    "## Low-Level Access to the GUI Settings   <a id=\"low_level\"></a>"
   ]
  },
  {
   "cell_type": "code",
   "execution_count": null,
   "metadata": {},
   "outputs": [],
   "source": [
    "print(balto.map_minlon_box.value)"
   ]
  },
  {
   "cell_type": "markdown",
   "metadata": {},
   "source": [
    "## References for More Info  <a id=\"references\"></a>"
   ]
  },
  {
   "cell_type": "markdown",
   "metadata": {},
   "source": [
    "A Good Anaconda Reference\n",
    "\n",
    "A Good BALTO Reference <br>\n",
    "https://www.earthcube.org/group/brokered-alignment-long-tail-observations-balto <br>\n",
    "https://www.nsf.gov/awardsearch/showAward?AWD_ID=1740704\n",
    "\n",
    "A Good Binder Reference <br>\n",
    "https://github.com/binder-examples\n",
    "\n",
    "A Jupyter Notebook Reference\n",
    "\n",
    "A Good OpenDAP Reference <br>\n",
    "https://www.opendap.org/ <br>\n",
    "https://opendap.github.io/documentation/QuickStart.html <br>\n",
    "https://www.opendap.org/support/user-documentation\n",
    "\n",
    "<b>NetCDF CF Conventions</b> <br>\n",
    "http://cfconventions.org/cf-conventions/cf-conventions.html\n",
    "\n",
    "<b>appmode</b> Jupyter plugin (not used) <br>\n",
    "https://github.com/oschuett/appmode <br>\n",
    "https://github.com/binder-examples/appmode\n",
    "\n",
    "<b>traitlets</b> (used by ipywidgets) <br>\n",
    "https://traitlets.readthedocs.io/en/stable/\n",
    "\n",
    "The <b>ipywidgets</b> Python package <br>\n",
    "https://ipywidgets.readthedocs.io/en/latest/index.html <br>\n",
    "https://ipywidgets.readthedocs.io/en/latest/user_guide.html\n",
    "\n",
    "The <b>ipyleaflet</b> Python package <br> \n",
    "https://ipyleaflet.readthedocs.io/en/latest/\n",
    "\n",
    "The <b>pydap</b> Python package <br>\n",
    "https://www.pydap.org/en/latest/ <br>\n",
    "https://github.com/pydap/pydap\n",
    "\n",
    "<b>Jupyter Lab</b> <br>\n",
    "https://jupyterlab.readthedocs.io/en/stable/getting_started/installation.html <br>\n",
    "https://jupyterlab.readthedocs.io/en/stable/user/extensions.html <br>\n",
    "https://ipywidgets.readthedocs.io/en/latest/user_install.html#installing-the-jupyterlab-extension<br>\n",
    "\n",
    "<b>Scientific Variables Ontology</b> (SVO) <br>\n",
    "http://www.geoscienceontology.org/ <br>\n",
    "Cite Stoica and Peckham papers.\n"
   ]
  },
  {
   "cell_type": "markdown",
   "metadata": {},
   "source": [
    "## Appendix 1:  Set up a conda environment called \"balto\"    <a id=\"setup\"></a>"
   ]
  },
  {
   "cell_type": "markdown",
   "metadata": {},
   "source": [
    "To run this Jupyter notebook, it is recommended to use Python 3.7 from an Anaconda distribution and to create a \"balto\" conda environment with the following commands.  This helps to prevent conflicts with other Python packages you may have installed.  After installing Anaconda, use these commands to create the environment. "
   ]
  },
  {
   "cell_type": "markdown",
   "metadata": {},
   "source": [
    "``` bash\n",
    "% conda update -n base -c defaults conda\n",
    "% conda create --name balto\n",
    "% conda activate balto\n",
    "% conda install -c conda-forge ipywidgets\n",
    "% conda install -c conda-forge ipyleaflet\n",
    "% conda install -c conda-forge pydap\n",
    "```"
   ]
  },
  {
   "cell_type": "markdown",
   "metadata": {},
   "source": [
    "If you want to use this notebook in Jupyter Lab (vs. Jupyter Notebook), you need to install a few more Python packages and extensions, as follows."
   ]
  },
  {
   "cell_type": "markdown",
   "metadata": {},
   "source": [
    "``` bash\n",
    "% conda install -c conda-forge jupyterlab\n",
    "% conda install -c conda-forge nb_conda_kernels  # (needed for conda envs)\n",
    "\n",
    "% conda install -c conda-forge nodejs\n",
    "% conda install -c conda-forge widgetsnbextension\n",
    "% jupyter labextension install jupyter-leaflet\n",
    "% jupyter labextension install @jupyter-widgets/jupyterlab-manager\n",
    "```"
   ]
  },
  {
   "cell_type": "markdown",
   "metadata": {},
   "source": [
    "When you want to run the notebook, type \"conda activate balto\" to activate this environment.  Then change to the directory that contains BALTO_GUI.ipynb and type \"jupyter notebook\" or \"jupyter lab\".\n",
    "\n",
    "Finally, choose this notebook by name, \"BALTO_GUI.ipynb\", and make sure to choose the kernel called:  Python [conda env:balto].  See the References section at the end for more info."
   ]
  },
  {
   "cell_type": "code",
   "execution_count": null,
   "metadata": {},
   "outputs": [],
   "source": []
  }
 ],
 "metadata": {
  "kernelspec": {
   "display_name": "Python [conda env:balto] *",
   "language": "python",
   "name": "conda-env-balto-py"
  },
  "language_info": {
   "codemirror_mode": {
    "name": "ipython",
    "version": 3
   },
   "file_extension": ".py",
   "mimetype": "text/x-python",
   "name": "python",
   "nbconvert_exporter": "python",
   "pygments_lexer": "ipython3",
   "version": "3.7.3"
  }
 },
 "nbformat": 4,
 "nbformat_minor": 2
}
